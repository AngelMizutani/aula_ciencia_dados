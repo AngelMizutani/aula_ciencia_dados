{
 "cells": [
  {
   "cell_type": "code",
   "execution_count": 5,
   "id": "c0e0421f-1cd5-4d8f-90a6-d29cc744e89a",
   "metadata": {},
   "outputs": [],
   "source": [
    "num = 2\n",
    "num2 = 3"
   ]
  },
  {
   "cell_type": "code",
   "execution_count": 6,
   "id": "0e6b6482-ce65-46f8-8d4c-408e0bd3f8a1",
   "metadata": {},
   "outputs": [
    {
     "name": "stdout",
     "output_type": "stream",
     "text": [
      "2\n",
      "3\n"
     ]
    }
   ],
   "source": [
    "print(num)\n",
    "print(num2)"
   ]
  },
  {
   "cell_type": "code",
   "execution_count": 7,
   "id": "827a9615-ed54-4353-a2b7-6efd4547cd49",
   "metadata": {},
   "outputs": [
    {
     "name": "stdout",
     "output_type": "stream",
     "text": [
      "5\n"
     ]
    }
   ],
   "source": [
    "print(num + num2)"
   ]
  },
  {
   "cell_type": "raw",
   "id": "202d1a12-e4b5-455c-b48d-00348b61516c",
   "metadata": {},
   "source": [
    "# Exercícios\n",
    "## Exercícios"
   ]
  },
  {
   "cell_type": "markdown",
   "id": "e7055907-74d4-45cf-81fc-8a6ca3ad208f",
   "metadata": {},
   "source": [
    "fdsfdsfsd"
   ]
  },
  {
   "cell_type": "code",
   "execution_count": 8,
   "id": "4c76218d-db2b-48cf-b726-61e10c279fab",
   "metadata": {},
   "outputs": [
    {
     "data": {
      "text/plain": [
       "'\\ncomentário\\nem várias\\nlinhas\\n'"
      ]
     },
     "execution_count": 8,
     "metadata": {},
     "output_type": "execute_result"
    }
   ],
   "source": [
    "# comentário em python\n",
    "'''\n",
    "comentário\n",
    "em várias\n",
    "linhas\n",
    "'''"
   ]
  }
 ],
 "metadata": {
  "kernelspec": {
   "display_name": "Python 3 (ipykernel)",
   "language": "python",
   "name": "python3"
  },
  "language_info": {
   "codemirror_mode": {
    "name": "ipython",
    "version": 3
   },
   "file_extension": ".py",
   "mimetype": "text/x-python",
   "name": "python",
   "nbconvert_exporter": "python",
   "pygments_lexer": "ipython3",
   "version": "3.12.7"
  }
 },
 "nbformat": 4,
 "nbformat_minor": 5
}
